{
 "cells": [
  {
   "cell_type": "markdown",
   "metadata": {},
   "source": [
    "# Bunching Factors"
   ]
  },
  {
   "cell_type": "markdown",
   "metadata": {},
   "source": [
    "## Import packages"
   ]
  },
  {
   "cell_type": "code",
   "execution_count": 1,
   "metadata": {
    "execution": {
     "iopub.execute_input": "2023-01-18T23:02:24.006259Z",
     "iopub.status.busy": "2023-01-18T23:02:24.005815Z",
     "iopub.status.idle": "2023-01-18T23:02:24.023737Z",
     "shell.execute_reply": "2023-01-18T23:02:24.023073Z"
    }
   },
   "outputs": [],
   "source": [
    "%load_ext autoreload\n",
    "%autoreload 2"
   ]
  },
  {
   "cell_type": "code",
   "execution_count": 2,
   "metadata": {
    "execution": {
     "iopub.execute_input": "2023-01-18T23:02:24.027615Z",
     "iopub.status.busy": "2023-01-18T23:02:24.027035Z",
     "iopub.status.idle": "2023-01-18T23:02:24.537863Z",
     "shell.execute_reply": "2023-01-18T23:02:24.537104Z"
    }
   },
   "outputs": [],
   "source": [
    "import numpy as np\n",
    "from numpy import genfromtxt\n",
    "import scipy\n",
    "from scipy import special\n",
    "from zfel.particles import general_load_bucket\n",
    "import matplotlib.pyplot as plt "
   ]
  },
  {
   "cell_type": "markdown",
   "metadata": {},
   "source": [
    "## Input parameters"
   ]
  },
  {
   "cell_type": "code",
   "execution_count": 3,
   "metadata": {
    "execution": {
     "iopub.execute_input": "2023-01-18T23:02:24.542547Z",
     "iopub.status.busy": "2023-01-18T23:02:24.541945Z",
     "iopub.status.idle": "2023-01-18T23:02:24.934737Z",
     "shell.execute_reply": "2023-01-18T23:02:24.933984Z"
    }
   },
   "outputs": [],
   "source": [
    "npart   = 512                       # n-macro-particles per bucket \n",
    "s_steps = 200#31                    # n-sample points along bunch length\n",
    "z_steps = 200#20                    # n-sample points along undulator\n",
    "energy  = 4313.34*1E6               # electron energy [eV]\n",
    "eSpread = 0#1.0e-4                  # relative rms energy spread [ ]\n",
    "emitN   = 1.2e-6                    # normalized transverse emittance [m-rad]\n",
    "currentMax = 3900                   # peak current [Ampere]\n",
    "beta = 26                           # mean beta [meter]\n",
    "unduPeriod = 0.03                   # undulator period [meter]\n",
    "unduK = 3.5                         # undulator parameter, K [ ]\n",
    "unduL = 70#30                       # length of undulator [meter]\n",
    "radWavelength = 1.5e-9              # seed wavelength? [meter], used only in single-freuqency runs\n",
    "dEdz = 0                            # rate of relative energy gain or taper [keV/m], optimal~130\n",
    "iopt = 5                            # 5=SASE, 4=seeded\n",
    "P0 = 10000*0.0                      # small seed input power [W]\n",
    "constseed = 1                       # whether we want to use constant random seed for reproducibility, 1 Yes, 0 No\n",
    "particle_position=genfromtxt('./data/weird_particle_position.csv', delimiter=',') # or None  \n",
    "# particle information with positions in meter and eta,\\\n",
    "# if we want to load random particle positions and energy, then set None\n",
    "hist_rule='square-root'             # 'square-root' or 'sturges' or 'rice-rule' or 'self-design', number \\\n",
    "                                    #  of intervals to generate the histogram of eta value in a bucket"
   ]
  },
  {
   "cell_type": "code",
   "execution_count": 4,
   "metadata": {
    "execution": {
     "iopub.execute_input": "2023-01-18T23:02:24.938615Z",
     "iopub.status.busy": "2023-01-18T23:02:24.938094Z",
     "iopub.status.idle": "2023-01-18T23:02:24.954777Z",
     "shell.execute_reply": "2023-01-18T23:02:24.954049Z"
    }
   },
   "outputs": [
    {
     "data": {
      "text/plain": [
       "array([ 0.005,  0.005,  0.005, ..., -0.005, -0.005, -0.005])"
      ]
     },
     "execution_count": 4,
     "metadata": {},
     "output_type": "execute_result"
    }
   ],
   "source": [
    "particle_position[:,1]"
   ]
  },
  {
   "cell_type": "markdown",
   "metadata": {},
   "source": [
    "## Calculating intermediate parameters and bunching factor"
   ]
  },
  {
   "cell_type": "code",
   "execution_count": 5,
   "metadata": {
    "execution": {
     "iopub.execute_input": "2023-01-18T23:02:25.001121Z",
     "iopub.status.busy": "2023-01-18T23:02:25.000804Z",
     "iopub.status.idle": "2023-01-18T23:02:25.740760Z",
     "shell.execute_reply": "2023-01-18T23:02:25.739853Z"
    }
   },
   "outputs": [
    {
     "data": {
      "text/plain": [
       "(200,)"
      ]
     },
     "execution_count": 5,
     "metadata": {},
     "output_type": "execute_result"
    }
   ],
   "source": [
    "# whether to use constant random seed for reproducibility\n",
    "if constseed==1:\n",
    "    np.random.seed(22)\n",
    "\n",
    "# Some constant values\n",
    "mc2 = 0.51099906E6#510.99906E-3      # Electron rest mass in eV\n",
    "c = 2.99792458E8        # light speed in meter\n",
    "e = 1.60217733E-19      # electron charge in Coulomb\n",
    "\n",
    "gamma0  = energy/mc2                                    # central energy of the beam in unit of mc2\n",
    "\n",
    "resWavelength = unduPeriod*(1+unduK**2/2.0)\\\n",
    "                /(2*gamma0**2)                          # resonant wavelength\n",
    "coopLength = resWavelength/unduPeriod                # cooperation length\n",
    "gainLength = 1                                      # rough gain length\n",
    "#cs0  = bunchLength/coopLength                           # bunch length in units of cooperation length     \n",
    "z0    = unduL/gainLength                                # wiggler length in units of gain length\n",
    "delt  = z0/z_steps                                      # integration step in z0 ~ 0.1 gain length\n",
    "dels  = delt                                            # integration step in s0 must be same as in z0 \n",
    "gbar  = (resWavelength-radWavelength)\\\n",
    "        /(radWavelength)                                # scaled detune parameter\n",
    "delg  = eSpread                                         # Gaussian energy spread in units of rho \n",
    "Ns    = currentMax*unduL/unduPeriod/z_steps\\\n",
    "        *resWavelength/c/e                              # N electrons per s-slice [ ]\n",
    "#load buckets\n",
    "#[thet_init,eta_init]=general_load_bucket(npart,gbar,delg,iopt\\\n",
    "#    ,Ns,coopLength,resWavelength,particle_position,s_steps,dels,hist_rule)\n",
    "\n",
    "#load buckets                 \n",
    "data = general_load_bucket(npart,Ns,coopLength,s_steps,dels,\n",
    "                           particle_position=particle_position,\n",
    "                           hist_rule=hist_rule,gbar=0,delg=None,iopt=None)  \n",
    "thet_init = data['thet_init']\n",
    "eta_init = data['eta_init']\n",
    "\n",
    "bunching=np.mean(np.real(np.exp(-1j*thet_init)),axis=1)\\\n",
    "  +np.mean(np.imag(np.exp(-1j*thet_init)),axis=1)*1j            #bunching factor calculation   \n",
    "bunching.shape"
   ]
  },
  {
   "cell_type": "markdown",
   "metadata": {},
   "source": [
    "## Verify whether the initial bunching level is reasonable"
   ]
  },
  {
   "cell_type": "code",
   "execution_count": 6,
   "metadata": {
    "execution": {
     "iopub.execute_input": "2023-01-18T23:02:25.745213Z",
     "iopub.status.busy": "2023-01-18T23:02:25.744952Z",
     "iopub.status.idle": "2023-01-18T23:02:25.759496Z",
     "shell.execute_reply": "2023-01-18T23:02:25.758781Z"
    }
   },
   "outputs": [
    {
     "name": "stdout",
     "output_type": "stream",
     "text": [
      "0.0008998043866928952\n",
      "0.0008389101946493842\n"
     ]
    }
   ],
   "source": [
    "print(np.sqrt(np.mean(np.absolute(bunching)**2)))\n",
    "print(1/np.sqrt(Ns))"
   ]
  }
 ],
 "metadata": {
  "kernelspec": {
   "display_name": "Python 3 (ipykernel)",
   "language": "python",
   "name": "python3"
  },
  "language_info": {
   "codemirror_mode": {
    "name": "ipython",
    "version": 3
   },
   "file_extension": ".py",
   "mimetype": "text/x-python",
   "name": "python",
   "nbconvert_exporter": "python",
   "pygments_lexer": "ipython3",
   "version": "3.9.15"
  }
 },
 "nbformat": 4,
 "nbformat_minor": 4
}
