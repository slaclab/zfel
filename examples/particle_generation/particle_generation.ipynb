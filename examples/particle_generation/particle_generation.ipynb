{
 "cells": [
  {
   "cell_type": "markdown",
   "metadata": {},
   "source": [
    "# Particle Generation"
   ]
  },
  {
   "cell_type": "markdown",
   "metadata": {},
   "source": [
    "## Import packages"
   ]
  },
  {
   "cell_type": "code",
   "execution_count": 1,
   "metadata": {
    "execution": {
     "iopub.execute_input": "2023-03-03T22:03:14.698815Z",
     "iopub.status.busy": "2023-03-03T22:03:14.698584Z",
     "iopub.status.idle": "2023-03-03T22:03:15.169317Z",
     "shell.execute_reply": "2023-03-03T22:03:15.168463Z"
    }
   },
   "outputs": [],
   "source": [
    "import numpy as np\n",
    "import scipy\n",
    "from scipy import special\n",
    "from zfel.particles import load_bucket\n",
    "import matplotlib.pyplot as plt"
   ]
  },
  {
   "cell_type": "markdown",
   "metadata": {},
   "source": [
    "## Input parameters"
   ]
  },
  {
   "cell_type": "code",
   "execution_count": 2,
   "metadata": {
    "execution": {
     "iopub.execute_input": "2023-03-03T22:03:15.173260Z",
     "iopub.status.busy": "2023-03-03T22:03:15.172547Z",
     "iopub.status.idle": "2023-03-03T22:03:15.179927Z",
     "shell.execute_reply": "2023-03-03T22:03:15.179285Z"
    }
   },
   "outputs": [],
   "source": [
    "# Most standard\n",
    "Nruns=1                             # Number of runs\n",
    "npart   = 512                       # n-macro-particles per bucket \n",
    "s_steps = 200#31                    # n-sample points along bunch length\n",
    "z_steps = 200#20                    # n-sample points along undulator\n",
    "energy  = 4313.34*1E6               # electron energy [eV]\n",
    "eSpread = 0#1.0e-4                  # relative rms energy spread [ ]\n",
    "emitN   = 1.2e-6                    # normalized transverse emittance [m-rad]\n",
    "currentMax = 3900                   # peak current [Ampere]\n",
    "beta = 26                           # mean beta [meter]\n",
    "unduPeriod = 0.03                   # undulator period [meter]\n",
    "unduK = 3.5                         # undulator parameter, K [ ]\n",
    "unduL = 70#30                       # length of undulator [meter]\n",
    "radWavelength = 1.5e-9              # seed wavelength? [meter], used only in single-freuqency runs\n",
    "dEdz = 0                            # rate of relative energy gain or taper [keV/m], optimal~130\n",
    "iopt = 5                            # 5=SASE, 4=seeded\n",
    "P0 = 10000*0.0                      # small seed input power [W]\n",
    "constseed = 1                       # whether we want to use constant random seed for reproducibility, 1 Yes, 0 No\n",
    "# particle information with positions in meter and gamma,\\\n",
    "# if we want to load random particle positions and energy, then set None\n",
    "hist_rule='square-root'             # 'square-root' or 'sturges' or 'rice-rule' or 'self-design', number \\\n",
    "                                    #  of intervals to generate the histogram of gamma value in a bucket"
   ]
  },
  {
   "cell_type": "code",
   "execution_count": 3,
   "metadata": {
    "execution": {
     "iopub.execute_input": "2023-03-03T22:03:15.183209Z",
     "iopub.status.busy": "2023-03-03T22:03:15.182962Z",
     "iopub.status.idle": "2023-03-03T22:03:15.189929Z",
     "shell.execute_reply": "2023-03-03T22:03:15.189403Z"
    }
   },
   "outputs": [
    {
     "name": "stdout",
     "output_type": "stream",
     "text": [
      "1.4999920058175574e-09\n"
     ]
    }
   ],
   "source": [
    "# for pytorch optimization\n",
    "Nruns=1                             # Number of runs\n",
    "npart   = 512                       # n-macro-particles per bucket \n",
    "s_steps = 30#200#31                    # n-sample points along bunch length\n",
    "z_steps = 30#200#20                    # n-sample points along undulator\n",
    "energy  = 4313.34*1E6               # electron energy [eV]\n",
    "eSpread = 0#1.0e-4                  # relative rms energy spread [ ]\n",
    "emitN   = 1.2e-6                    # normalized transverse emittance [m-rad]\n",
    "currentMax = 3900                   # peak current [Ampere]\n",
    "beta = 26                           # mean beta [meter]\n",
    "unduPeriod = 0.03                   # undulator period [meter]\n",
    "#unduK = 3.5                        # undulator parameter, K [ ]\n",
    "unduK = np.ones(z_steps)*3.5  # tapered undulator parameter, K [ ]\n",
    "if unduK.shape[0]!=z_steps:\n",
    "    print('Wrong! Number of steps should always be the same as z_steps')\n",
    "unduL = 70#30                       # length of undulator [meter]\n",
    "radWavelength = 1.5e-9              # seed wavelength? [meter], used only in single-freuqency runs\n",
    "\n",
    "mc2 = 0.51099906E6#510.99906E-3      # Electron rest mass in eV\n",
    "\n",
    "gamma0  = energy/mc2                                    # central energy of the beam in unit of mc2\n",
    "    \n",
    "radWavelength=unduPeriod*(1+unduK[0]**2/2.0)\\\n",
    "                    /(2*gamma0**2)                          # resonant wavelength\n",
    "\n",
    "print(radWavelength)\n",
    "dEdz = 0                            # rate of relative energy gain or taper [keV/m], optimal~130\n",
    "iopt = 'sase'                       # 'sase' or 'seeded'\n",
    "P0 = 10000*0.0                      # small seed input power [W]\n",
    "constseed = 1                       # whether we want to use constant random seed for reproducibility, 1 Yes, 0 No\n",
    "particle_position=None#genfromtxt('./Inputs/particle_position.csv', delimiter=',') # or None  \n",
    "# particle information with positions in meter and eta,\\\n",
    "# if we want to load random particle positions and energy, then set None\n",
    "hist_rule='square-root'             # 'square-root' or 'sturges' or 'rice-rule' or 'self-design', number \\\n",
    "                                    #  of intervals to generate the histogram of eta value in a bucket"
   ]
  },
  {
   "cell_type": "markdown",
   "metadata": {},
   "source": [
    "## Calculating intermediate parameters"
   ]
  },
  {
   "cell_type": "code",
   "execution_count": 4,
   "metadata": {
    "execution": {
     "iopub.execute_input": "2023-03-03T22:03:15.232171Z",
     "iopub.status.busy": "2023-03-03T22:03:15.231558Z",
     "iopub.status.idle": "2023-03-03T22:03:15.238850Z",
     "shell.execute_reply": "2023-03-03T22:03:15.238288Z"
    }
   },
   "outputs": [],
   "source": [
    "mc2 = 0.51099906E6#510.99906E-3      # Electron rest mass in eV\n",
    "c = 2.99792458E8        # light speed in meter\n",
    "e = 1.60217733E-19      # electron charge in Coulomb\n",
    "gamma0  = energy/mc2                                    # central energy of the beam in unit of mc2\n",
    "resWavelength = unduPeriod*(1+unduK[0]**2/2.0)\\\n",
    "                    /(2*gamma0**2)                          # resonant wavelength\n",
    "coopLength = resWavelength/unduPeriod                # cooperation length\n",
    "gainLength = 1                                      # rough gain length\n",
    "z0    = unduL/gainLength                                # wiggler length in units of gain length\n",
    "delt  = z0/z_steps                                      # integration step in z0 ~ 0.1 gain length\n",
    "dels  = delt                                            # integration step in s0 must be same as in z0 \n",
    "s = np.arange(1,s_steps+1)*dels*coopLength*1.0e6        # longitundinal steps along beam in micron ? meter           \n",
    "z = np.arange(1,z_steps+1)*delt*gainLength              # longitundinal steps along undulator in meter\n",
    "bunchLength=s[-1]*1e-6\n",
    "\n",
    "gbar  = (resWavelength-radWavelength)\\\n",
    "            /(radWavelength)                                # scaled detune parameter\n",
    "delg  = eSpread                                         # Gaussian energy spread in units of rho \n",
    "Ns    = currentMax*unduL/unduPeriod/z_steps\\\n",
    "            *resWavelength/c/e                              # N electrons per s-slice [ ]"
   ]
  },
  {
   "cell_type": "markdown",
   "metadata": {},
   "source": [
    "## Generate particle profile"
   ]
  },
  {
   "cell_type": "code",
   "execution_count": 5,
   "metadata": {
    "execution": {
     "iopub.execute_input": "2023-03-03T22:03:15.241664Z",
     "iopub.status.busy": "2023-03-03T22:03:15.241198Z",
     "iopub.status.idle": "2023-03-03T22:03:15.602117Z",
     "shell.execute_reply": "2023-03-03T22:03:15.601181Z"
    }
   },
   "outputs": [
    {
     "data": {
      "image/png": "[encoded data removed]",
      "text/plain": [
       "<Figure size 640x480 with 1 Axes>"
      ]
     },
     "metadata": {},
     "output_type": "display_data"
    }
   ],
   "source": [
    "# SASE_particle_position\n",
    "s_all=np.zeros((npart*s_steps,1))\n",
    "gam_all=np.zeros((npart*s_steps,1))\n",
    "for j in range(s_steps):\n",
    "    [thet0,eta0] = load_bucket(npart,gbar,delg,Ns, iopt=iopt)     # load each bucket\n",
    "    for n in range(npart):\n",
    "        s_all[j*npart+n,0]=(j+thet0[n]/(2*np.pi))*dels*coopLength\n",
    "        gam_all[j*npart+n,0]=eta0[n]\n",
    "\n",
    "SASE_particle_position=np.concatenate((s_all,gam_all),axis=1)\n",
    "plt.figure()\n",
    "plt.plot(s_all,gam_all,'.')\n",
    "np.savetxt(\"./data/SASE_particle_position.csv\", SASE_particle_position, delimiter=\",\")\n"
   ]
  },
  {
   "cell_type": "code",
   "execution_count": 6,
   "metadata": {
    "execution": {
     "iopub.execute_input": "2023-03-03T22:03:15.605618Z",
     "iopub.status.busy": "2023-03-03T22:03:15.605158Z",
     "iopub.status.idle": "2023-03-03T22:03:15.850403Z",
     "shell.execute_reply": "2023-03-03T22:03:15.849588Z"
    }
   },
   "outputs": [
    {
     "data": {
      "image/png": "[encoded data removed]",
      "text/plain": [
       "<Figure size 640x480 with 1 Axes>"
      ]
     },
     "metadata": {},
     "output_type": "display_data"
    }
   ],
   "source": [
    "# weird_particle_position\n",
    "particle_num=npart*s_steps\n",
    "s_all=np.random.rand(particle_num,1)*bunchLength\n",
    "gam_all=np.zeros((particle_num,1))\n",
    "gam_all[:int(particle_num/3),0]+=0.005\n",
    "gam_all[int(2*particle_num/3):,0]-=0.005\n",
    "weird_particle_position=np.concatenate((s_all,gam_all),axis=1)\n",
    "plt.figure()\n",
    "plt.plot(s_all,gam_all,'.')\n",
    "np.savetxt(\"weird_particle_position.csv\", weird_particle_position, delimiter=\",\")"
   ]
  },
  {
   "cell_type": "code",
   "execution_count": 7,
   "metadata": {
    "execution": {
     "iopub.execute_input": "2023-03-03T22:03:15.854404Z",
     "iopub.status.busy": "2023-03-03T22:03:15.853714Z",
     "iopub.status.idle": "2023-03-03T22:03:16.009209Z",
     "shell.execute_reply": "2023-03-03T22:03:16.007618Z"
    }
   },
   "outputs": [],
   "source": [
    "# Cleanup\n",
    "!rm weird_particle_position.csv"
   ]
  }
 ],
 "metadata": {
  "kernelspec": {
   "display_name": "Python 3 (ipykernel)",
   "language": "python",
   "name": "python3"
  },
  "language_info": {
   "codemirror_mode": {
    "name": "ipython",
    "version": 3
   },
   "file_extension": ".py",
   "mimetype": "text/x-python",
   "name": "python",
   "nbconvert_exporter": "python",
   "pygments_lexer": "ipython3",
   "version": "3.9.16"
  }
 },
 "nbformat": 4,
 "nbformat_minor": 4
}
