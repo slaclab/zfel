{
 "cells": [
  {
   "cell_type": "markdown",
   "metadata": {},
   "source": [
    "1.function sase in sase1d.py"
   ]
  },
  {
   "cell_type": "code",
   "execution_count": null,
   "metadata": {},
   "outputs": [],
   "source": [
    "import numpy as np\n",
    "import scipy\n",
    "import load_bucket\n",
    "import matplotlib.pyplot as plt \n",
    "\n",
    "def sase(inp_struct):\n",
    "    '''\n",
    "    SASE 1D FEL run function\n",
    "    Input:\n",
    "    Nruns                       # Number of runs\n",
    "    npart                       # n-macro-particles per bucket \n",
    "    s_steps                     # n-sample points along bunch length\n",
    "    z_steps                     # n-sample points along undulator\n",
    "    energy                      # electron energy [MeV]\n",
    "    eSpread                     # relative rms energy spread [ ]\n",
    "    emitN                       # normalized transverse emittance [mm-mrad]\n",
    "    currentMax                  # peak current [Ampere]\n",
    "    beta                        # mean beta [meter]\n",
    "    unduPeriod                  # undulator period [meter]\n",
    "    unduK                       # undulator parameter, K [ ]\n",
    "    unduL                       # length of undulator [meter]\n",
    "    radWavelength               # seed wavelength? [meter], used only in single-freuqency runs\n",
    "    dEdz                        # rate of relative energy gain or taper [keV/m], optimal~130\n",
    "    iopt                        # 5=SASE, 4=seeded\n",
    "    P0                          # small seed input power [W]\n",
    "    constseed                   # whether we want to use constant  random seed for reproducibility, 1 Yes, 0 No\n",
    "    Output:\n",
    "    z                           # longitudinal steps along undulator\n",
    "    power_z                     # power profile along undulator                    \n",
    "    s                           # longitudinal steps along beam\n",
    "    power_s                     # power profile along beam    \n",
    "    rho                         # FEL Pierce parameter\n",
    "    detune                      # deviation from the central energy\n",
    "    field                       # final output field along beam\n",
    "    field_s                     # output field along beam for different z position\n",
    "    gainLength                  # 1D FEL gain Length\n",
    "    resWavelength               # resonant wavelength\n",
    "    thet_out                    # output phase\n",
    "    gam_out                     # output energy in unit of mc2\n",
    "    bunching                    # bunching factor\n",
    "    '''\n",
    "\n",
    "    #export variables\n",
    "    Nruns=inp_struct['Nruns']\n",
    "    npart=inp_struct['npart']\n",
    "    s_steps=inp_struct['s_steps']\n",
    "    z_steps=inp_struct['z_steps']\n",
    "    energy=inp_struct['energy']\n",
    "    eSpread=inp_struct['eSpread']\n",
    "    emitN=inp_struct['emitN']\n",
    "    currentMax=inp_struct['currentMax']\n",
    "    beta=inp_struct['beta']\n",
    "    unduPeriod=inp_struct['unduPeriod']\n",
    "    unduK=inp_struct['unduK']\n",
    "    unduL=inp_struct['unduL']\n",
    "    radWavelength=inp_struct['radWavelength']\n",
    "    dEdz=inp_struct['dEdz']\n",
    "    iopt=inp_struct['iopt']\n",
    "    P0=inp_struct['P0']\n",
    "    constseed=inp_struct['constseed']\n",
    "\n",
    "    # whether to use constant random seed for reproducibility\n",
    "    if constseed==1:\n",
    "        np.random.seed(22)\n",
    "\n",
    "    # Some constant values\n",
    "    alfvenCurrent = 17045.0 # Alfven current ~ 17 kA\n",
    "    mc2 = 510.99906E-3      # Electron rest mass in MeV\n",
    "    c = 2.99792458E8        # light speed in meter\n",
    "    e = 1.60217733E-19      # electron charge in Coulomb\n",
    "\n",
    "    #calculating intermediate parameters\n",
    "    unduJJ  = scipy.special.jv(0,unduK**2/(4+2*unduK**2))\\\n",
    "              -scipy.special.jv(1,unduK**2/(4+2*unduK**2))  # undulator JJ\n",
    "    gamma0  = energy/mc2                                    # central energy of the beam in unit of mc2\n",
    "    sigmaX2 = emitN*beta/gamma0                             # rms transverse size, divergence of the electron beam\n",
    "    rho     = (0.5/gamma0)*((currentMax/alfvenCurrent)\\\n",
    "              *(unduPeriod*unduK*unduJJ/(2*np.pi))**2\\\n",
    "              /(2*sigmaX2))**(1/3)                          # FEL Pierce parameter\n",
    "    resWavelength = unduPeriod*(1+unduK**2/2.0)\\\n",
    "                    /(2*gamma0**2)                          # resonant wavelength\n",
    "    rhoPbeam   = rho*energy*currentMax/1000.0               # rho times beam power [GW]\n",
    "    coopLength = resWavelength/(4*np.pi*rho)                # cooperation length\n",
    "    gainLength = unduPeriod/(4*np.pi*rho)                   # rough gain length\n",
    "    #cs0  = bunchLength/coopLength                           # bunch length in units of cooperation length     \n",
    "    z0    = unduL/gainLength                                # wiggler length in units of gain length\n",
    "    delt  = z0/z_steps                                      # integration step in z0 ~ 0.1 gain length\n",
    "    dels  = delt                                            # integration step in s0 must be same as in z0 \n",
    "    a02   = P0*1E-9/rhoPbeam                                # scaled input power\n",
    "    gbar  = (resWavelength-radWavelength)\\\n",
    "            /(radWavelength*rho)                            # scaled detune parameter\n",
    "    delg  = eSpread/rho                                     # Gaussian energy spread in units of rho \n",
    "    Ns    = currentMax*unduL/unduPeriod/z_steps\\\n",
    "            *resWavelength/c/e                              # N electrons per s-slice [ ]\n",
    "    Eloss = -dEdz*1E-3/energy/rho*gainLength                # convert dEdz to alpha parameter\n",
    "    s = np.arange(1,s_steps+1)*dels*coopLength*1.0e6        # longitundinal steps along beam in meter           \n",
    "    z = np.arange(1,z_steps+1)*delt*gainLength              # longitundinal steps along undulator in meter\n",
    "\n",
    "    bunchLength=s[-1]*1e-6/2.5                              # beam length in meter\n",
    "    bunch_steps=np.round(bunchLength/delt/coopLength)       # rms (Gaussian) or half width (flattop) bunch length in s_step\n",
    "    shape = np.zeros((1,s_steps))                           # initialization of the beam current shape\n",
    "    shape= 0.5*(np.tanh(10*(np.arange(1,s_steps+1)\\\n",
    "           -s_steps/2+bunch_steps)/bunch_steps)\\\n",
    "           -np.tanh(10*(np.arange(1,s_steps+1)\\\n",
    "           -s_steps/2-bunch_steps)/bunch_steps))            # filling the shape of current and plot it\n",
    "    plt.plot(shape)\n",
    "\n",
    "    # initialization of variables during the 1D FEL process\n",
    "    ar=np.zeros((s_steps+1,z_steps+1))\n",
    "    ai=np.zeros((s_steps+1,z_steps+1))\n",
    "    gam=np.zeros((npart,z_steps+1))\n",
    "    thethalf=np.zeros((npart,z_steps+1))\n",
    "    thet_out=np.zeros((s_steps,1))\n",
    "    bunching=np.zeros((s_steps,z_steps),dtype=complex)\n",
    "\n",
    "    # sase mode is chosen, go over all slices of the bunch starting from the tail k=1\n",
    "    if iopt==5: \n",
    "        for k in range(s_steps):\n",
    "            ar[k,0] = np.sqrt(a02)                                              # input seed signal\n",
    "            ai[k,0] = 0.0\n",
    "            [thet0,gam0] = load_bucket.load_bucket(npart,gbar,delg,iopt,Ns)     # load each bucket\n",
    "            gam[:,0] = gam0.T                                                   # gamma at j=1\n",
    "            thethalf[:,0] = thet0.T-gam[:,0]*delt/2                             # half back\n",
    "            thet_out[k,0]=np.mean(thet0.T)\n",
    "            for j in range(z_steps):                                            # evolve e and gamma in s and t by leap-frog\n",
    "                thet = thethalf[:,j]+gam[:,j]*delt/2\n",
    "                sumsin = np.sum(np.sin(thet))\n",
    "                sumcos = np.sum(np.cos(thet))\n",
    "                sinavg = shape[k]*sumsin/npart\n",
    "                cosavg = shape[k]*sumcos/npart\n",
    "                arhalf = ar[k,j]+cosavg*dels/2\n",
    "                aihalf = ai[k,j]-sinavg*dels/2\n",
    "                thethalf[:,j+1] = thethalf[:,j]+gam[:,j]*delt\n",
    "                gam[:,j+1] = gam[:,j]-2*arhalf*np.cos(thethalf[:,j+1])*delt\\\n",
    "                             +2*aihalf*np.sin(thethalf[:,j+1])*delt-Eloss*delt  #Eloss*delt to simulate the taper\n",
    "                sumsin = np.sum(np.sin(thethalf[:,j+1]))\n",
    "                sumcos = np.sum(np.cos(thethalf[:,j+1]))\n",
    "                sinavg = shape[k]*sumsin/npart\n",
    "                cosavg = shape[k]*sumcos/npart\n",
    "                ar[k+1,j+1] = ar[k,j]+cosavg*dels                               # apply slippage condition\n",
    "                ai[k+1,j+1] = ai[k,j]-sinavg*dels\n",
    "                bunching[k,j]=np.mean(np.real(np.exp(-1j*thet)))\\\n",
    "                              +np.mean(np.imag(np.exp(-1j*thet)))*1j            #bunching factor calculation\n",
    "    \n",
    "        #converting a and gam to field, power and gamavg\n",
    "        power_s=np.zeros((z_steps,s_steps))\n",
    "        power_z=np.zeros(z_steps)\n",
    "        gamavg=np.zeros(z_steps)\n",
    "        for j in range(z_steps):\n",
    "            for k in range(s_steps):\n",
    "                power_s[j,k] = (ar[k+1,j]**2+ai[k+1,j]**2)*rhoPbeam\n",
    "            power_z[j] = np.sum(ar[:,j]**2+ai[:,j]**2)/s_steps*rhoPbeam\n",
    "            gamavg[j] = np.sum(gam[:,j+1])/npart                                # average electron energy at every z position\n",
    "            thet_out=0                                                          # don't output phase space\n",
    "            gam_out=0\n",
    "        detune = 2*np.pi/(dels*s_steps)*np.arange(-s_steps/2,s_steps/2+1)\n",
    "        field = (ar[:,z_steps]+ai[:,z_steps]*1j)*np.sqrt(rhoPbeam)\n",
    "        field_s = (ar[:,:]+ai[:,:]*1j)*np.sqrt(rhoPbeam)\n",
    "\n",
    "    return z,power_z,s,power_s,rho,detune,field,field_s,gainLength,resWavelength,thet_out,gam_out,bunching"
   ]
  },
  {
   "cell_type": "markdown",
   "metadata": {},
   "source": [
    "1.1 Some constant values\n",
    "\n",
    "alfvenCurrent = 17045.0  Alfven current ~ 17 kA\n",
    "\n",
    "mc2 = 510.99906E-3       Electron rest mass in MeV\n",
    "\n",
    "c = 2.99792458E8         light speed in meter\n",
    "\n",
    "e = 1.60217733E-19       electron charge in Coulomb"
   ]
  },
  {
   "cell_type": "markdown",
   "metadata": {},
   "source": [
    "1.2 calculating intermediate parameters"
   ]
  },
  {
   "cell_type": "code",
   "execution_count": null,
   "metadata": {},
   "outputs": [],
   "source": [
    "code:\n",
    "unduJJ  = scipy.special.jv(0,unduK**2/(4+2*unduK**2))\\\n",
    "          -scipy.special.jv(1,unduK**2/(4+2*unduK**2))\n",
    "    \n"
   ]
  },
  {
   "cell_type": "markdown",
   "metadata": {},
   "source": [
    "equation:\n",
    "$[JJ]=J_0(\\frac{K^2}{4+2K^2})-J_1(\\frac{K^2}{4+2K^2})$"
   ]
  },
  {
   "cell_type": "code",
   "execution_count": null,
   "metadata": {},
   "outputs": [],
   "source": [
    "code:\n",
    "\n",
    "sigmaX2 = emitN*beta/gamma0\n"
   ]
  },
  {
   "cell_type": "markdown",
   "metadata": {},
   "source": [
    "equation:\n",
    "\n",
    "$\\sigma_x^2=\\epsilon\\beta$\n",
    "scaled by central energy"
   ]
  },
  {
   "cell_type": "code",
   "execution_count": null,
   "metadata": {},
   "outputs": [],
   "source": [
    "code:\n",
    "\n",
    "    rho= (0.5/gamma0)*((currentMax/alfvenCurrent)\\\n",
    "              *(unduPeriod*unduK*unduJJ/(2*np.pi))**2\\\n",
    "              /(2*sigmaX2))**(1/3)\n",
    "              \n"
   ]
  },
  {
   "cell_type": "markdown",
   "metadata": {},
   "source": [
    "equation:\n",
    "\n",
    "$\\rho=[\\frac{1}{8\\pi} \\frac{I}{I_A} (\\frac{K[JJ]}{1+\\frac{K^2}{2}})^2 \\frac{\\gamma \\lambda_1^{2}}{2\\pi\\sigma_x^2}]^{\\frac{1}{3}}$"
   ]
  },
  {
   "cell_type": "code",
   "execution_count": null,
   "metadata": {},
   "outputs": [],
   "source": [
    "# FEL Pierce parameter\n",
    "    resWavelength = unduPeriod*(1+unduK**2/2.0)\\\n",
    "                    /(2*gamma0**2)                          # resonant wavelength"
   ]
  },
  {
   "cell_type": "markdown",
   "metadata": {},
   "source": [
    "equation: resonance condition\n",
    "\n",
    "$\\lambda_s=\\frac{\\lambda_u}{2\\gamma^2}(1+\\frac{K^2}{2})$\n",
    "\n",
    "Some defination and scaling :"
   ]
  },
  {
   "cell_type": "code",
   "execution_count": null,
   "metadata": {},
   "outputs": [],
   "source": [
    "    rhoPbeam   = rho*energy*currentMax/1000.0               # rho times beam power [GW]\n",
    "    coopLength = resWavelength/(4*np.pi*rho)                # cooperation length\n",
    "    gainLength = unduPeriod/(4*np.pi*rho)                   # rough gain length\n",
    "    #cs0  = bunchLength/coopLength                           # bunch length in units of cooperation length     \n",
    "    z0    = unduL/gainLength                                # wiggler length in units of gain length\n",
    "    delt  = z0/z_steps                                      # integration step in z0 ~ 0.1 gain length\n",
    "    dels  = delt                                            # integration step in s0 must be same as in z0   "
   ]
  },
  {
   "cell_type": "markdown",
   "metadata": {},
   "source": [
    "$P=a^2 \\rho P_{beam}$\n",
    "\n",
    "Some definations\n",
    "\n",
    "Eloss is an effective term for the taper optimization"
   ]
  },
  {
   "cell_type": "code",
   "execution_count": null,
   "metadata": {},
   "outputs": [],
   "source": [
    "    a02   = P0*1E-9/rhoPbeam                                # scaled input power\n",
    "    gbar  = (resWavelength-radWavelength)\\\n",
    "            /(radWavelength*rho)                            # scaled detune parameter\n",
    "    delg  = eSpread/rho                                     # Gaussian energy spread in units of rho \n",
    "    Ns    = currentMax*unduL/unduPeriod/z_steps\\\n",
    "            *resWavelength/c/e                              # N electrons per s-slice [ ]\n",
    "    Eloss = -dEdz*1E-3/energy/rho*gainLength                # convert dEdz to alpha parameter\n",
    "    s = np.arange(1,s_steps+1)*dels*coopLength*1.0e6        # longitundinal steps along beam in meter           \n",
    "    z = np.arange(1,z_steps+1)*delt*gainLength              # longitundinal steps along undulator in meter"
   ]
  },
  {
   "cell_type": "markdown",
   "metadata": {},
   "source": [
    "Use a self-designed shape function to simulate the current profile"
   ]
  },
  {
   "cell_type": "code",
   "execution_count": null,
   "metadata": {},
   "outputs": [],
   "source": [
    "    bunchLength=s[-1]*1e-6/2.5                              # beam length in meter\n",
    "    bunch_steps=np.round(bunchLength/delt/coopLength)       # rms (Gaussian) or half width (flattop) bunch length in s_step\n",
    "    shape = np.zeros((1,s_steps))                           # initialization of the beam current shape\n",
    "    shape= 0.5*(np.tanh(10*(np.arange(1,s_steps+1)\\\n",
    "           -s_steps/2+bunch_steps)/bunch_steps)\\\n",
    "           -np.tanh(10*(np.arange(1,s_steps+1)\\\n",
    "           -s_steps/2-bunch_steps)/bunch_steps))            # filling the shape of current and plot it\n",
    "    plt.plot(shape)"
   ]
  },
  {
   "cell_type": "markdown",
   "metadata": {},
   "source": [
    "Initialization of some variables"
   ]
  },
  {
   "cell_type": "code",
   "execution_count": null,
   "metadata": {},
   "outputs": [],
   "source": [
    "    # initialization of variables during the 1D FEL process\n",
    "    ar=np.zeros((s_steps+1,z_steps+1))\n",
    "    ai=np.zeros((s_steps+1,z_steps+1))\n",
    "    gam=np.zeros((npart,z_steps+1))\n",
    "    thethalf=np.zeros((npart,z_steps+1))\n",
    "    thet_out=np.zeros((s_steps,1))\n",
    "    bunching=np.zeros((s_steps,z_steps),dtype=complex)"
   ]
  },
  {
   "cell_type": "markdown",
   "metadata": {},
   "source": [
    "1.3 FEL 1D process"
   ]
  },
  {
   "cell_type": "markdown",
   "metadata": {},
   "source": [
    "Load bucket for each slice, calculate the initialized particle position and energy of the particles\n",
    "\n",
    "equation:\n",
    "\n",
    "$\\frac{d\\theta_j}{d\\hat{z}}=\\hat{\\eta_j}$\n",
    "\n",
    "code:"
   ]
  },
  {
   "cell_type": "code",
   "execution_count": null,
   "metadata": {},
   "outputs": [],
   "source": [
    "#sase mode is chosen, go over all slices of the bunch starting from the tail k=1\n",
    "    if iopt==5: \n",
    "        for k in range(s_steps):\n",
    "            ar[k,0] = np.sqrt(a02)                                              # input seed signal\n",
    "            ai[k,0] = 0.0\n",
    "            [thet0,gam0] = load_bucket.load_bucket(npart,gbar,delg,iopt,Ns)     # load each bucket\n",
    "            gam[:,0] = gam0.T                                                   # gamma at j=1\n",
    "            thethalf[:,0] = thet0.T-gam[:,0]*delt/2                             # half back\n",
    "            thet_out[k,0]=np.mean(thet0.T)"
   ]
  },
  {
   "cell_type": "markdown",
   "metadata": {},
   "source": [
    "equation:\n",
    "\n",
    "$\\frac{da}{d\\hat{z}}=-<e^{-i\\theta_{j}}>_{\\Delta}$\n",
    "\n",
    "code:"
   ]
  },
  {
   "cell_type": "code",
   "execution_count": null,
   "metadata": {},
   "outputs": [],
   "source": [
    "            for j in range(z_steps):                                            # evolve e and gamma in s and t by leap-frog\n",
    "                thet = thethalf[:,j]+gam[:,j]*delt/2\n",
    "                sumsin = np.sum(np.sin(thet))\n",
    "                sumcos = np.sum(np.cos(thet))\n",
    "                sinavg = shape[k]*sumsin/npart\n",
    "                cosavg = shape[k]*sumcos/npart\n",
    "                arhalf = ar[k,j]+cosavg*dels/2\n",
    "                aihalf = ai[k,j]-sinavg*dels/2"
   ]
  },
  {
   "cell_type": "markdown",
   "metadata": {},
   "source": [
    "equation:\n",
    "\n",
    "$\\frac{d\\theta_j}{d\\hat{z}}=\\hat{\\eta_j}$\n",
    "\n",
    "$\\frac{d\\hat{\\eta_j}}{dz}=ae^{i\\theta_{j}}+a^{*}e^{i\\theta_{-j}}$\n",
    "\n",
    "code:"
   ]
  },
  {
   "cell_type": "code",
   "execution_count": null,
   "metadata": {},
   "outputs": [],
   "source": [
    "                thethalf[:,j+1] = thethalf[:,j]+gam[:,j]*delt\n",
    "                gam[:,j+1] = gam[:,j]-2*arhalf*np.cos(thethalf[:,j+1])*delt\\\n",
    "                             +2*aihalf*np.sin(thethalf[:,j+1])*delt-Eloss*delt  \n",
    "                #Eloss*delt to simulate the taper"
   ]
  },
  {
   "cell_type": "markdown",
   "metadata": {},
   "source": [
    "equation (same thing):\n",
    "    \n",
    "$\\frac{da}{d\\hat{z}}=-<e^{-i\\theta_{j}}>_{\\Delta}$\n",
    "\n",
    "$\\frac{d\\theta_j}{d\\hat{z}}=\\hat{\\eta_j}$\n",
    "\n",
    "$\\frac{d\\hat{\\eta_j}}{dz}=ae^{i\\theta_{j}}+a^{*}e^{i\\theta_{-j}}$\n",
    "\n",
    "code:"
   ]
  },
  {
   "cell_type": "code",
   "execution_count": null,
   "metadata": {},
   "outputs": [],
   "source": [
    "                sumsin = np.sum(np.sin(thethalf[:,j+1]))\n",
    "                sumcos = np.sum(np.cos(thethalf[:,j+1]))\n",
    "                sinavg = shape[k]*sumsin/npart\n",
    "                cosavg = shape[k]*sumcos/npart\n",
    "                ar[k+1,j+1] = ar[k,j]+cosavg*dels                               # apply slippage condition\n",
    "                ai[k+1,j+1] = ai[k,j]-sinavg*dels\n",
    "                bunching[k,j]=np.mean(np.real(np.exp(-1j*thet)))\\\n",
    "                              +np.mean(np.imag(np.exp(-1j*thet)))*1j            #bunching factor calculation"
   ]
  },
  {
   "cell_type": "markdown",
   "metadata": {},
   "source": [
    "1.4 converting a and gam to field, power and gamavg"
   ]
  },
  {
   "cell_type": "markdown",
   "metadata": {},
   "source": [
    "Initialization of power_s (power along beam at different longitudinal undulator positions), power_z (averaged power at different longitundinal undulator positions), gamavg (averaged energy gamma at different longitundinal undulator positions)"
   ]
  },
  {
   "cell_type": "code",
   "execution_count": null,
   "metadata": {},
   "outputs": [],
   "source": [
    "        power_s=np.zeros((z_steps,s_steps))\n",
    "        power_z=np.zeros(z_steps)\n",
    "        gamavg=np.zeros(z_steps)       "
   ]
  },
  {
   "cell_type": "markdown",
   "metadata": {},
   "source": [
    "$P=a^2 \\rho P_{beam}$\n",
    "\n",
    "detune is the frequency array of the beam\n",
    "\n",
    "$field=\\sqrt{P}$"
   ]
  },
  {
   "cell_type": "code",
   "execution_count": null,
   "metadata": {},
   "outputs": [],
   "source": [
    "        for j in range(z_steps):\n",
    "            for k in range(s_steps):\n",
    "                power_s[j,k] = (ar[k+1,j]**2+ai[k+1,j]**2)*rhoPbeam\n",
    "            power_z[j] = np.sum(ar[:,j]**2+ai[:,j]**2)/s_steps*rhoPbeam\n",
    "            gamavg[j] = np.sum(gam[:,j+1])/npart                                # average electron energy at every z position\n",
    "            thet_out=0                                                          # don't output phase space\n",
    "            gam_out=0\n",
    "        detune = 2*np.pi/(dels*s_steps)*np.arange(-s_steps/2,s_steps/2+1)\n",
    "        field = (ar[:,z_steps]+ai[:,z_steps]*1j)*np.sqrt(rhoPbeam)\n",
    "        field_s = (ar[:,:]+ai[:,:]*1j)*np.sqrt(rhoPbeam)"
   ]
  },
  {
   "cell_type": "markdown",
   "metadata": {},
   "source": [
    "2.Load bucket function"
   ]
  },
  {
   "cell_type": "code",
   "execution_count": null,
   "metadata": {},
   "outputs": [],
   "source": [
    "import numpy as np\n",
    "\n",
    "def load_bucket(n,gbar,delg,iopt,Ns):\n",
    "    '''\n",
    "    random initialization of the beam load_bucket\n",
    "    inputs:\n",
    "    n               # n-macro-particles per bucket\n",
    "    gbar            # scaled detune parameter\n",
    "    delg            # Gaussian energy spread in units of rho\n",
    "    iopt            # 5=SASE, 4=seeded\n",
    "    Ns              # N electrons per s-slice ??\n",
    "    outputs:\n",
    "    thet            # bucket macro particles position\n",
    "    gam             # bucket macro particles energy\n",
    "    '''\n",
    "    nmax = 10000;\n",
    "    if n>nmax:\n",
    "        raise ValueError('increase nmax, subr load')\n",
    "\n",
    "    gam=np.zeros(n)\n",
    "    thet=np.zeros(n)\n",
    "    if iopt==4:\n",
    "        M=128                                               # number of particles in each beamlet\n",
    "        nb= int(np.round(n/M))                              # number of beamlet via Fawley between 64 to 256 (x16=1024 to 4096)\n",
    "        if M*nb!=n:\n",
    "            raise ValueError('n must be a multiple of 4')\n",
    "        for i in range(nb):\n",
    "            gamma=delg*np.random.randn(1)+gbar\n",
    "            for j in range(M):\n",
    "                gam[i*M+j]=gamma\n",
    "                thet[i*M+j]=2*np.pi*j/M\n",
    "    elif iopt==5:\n",
    "        M=4  # number of particles in each beamlet\n",
    "        nb= int(np.round(n/M) )    #number of beamlet via Fawley between 64 to 256 (x16=1024 to 4096)\n",
    "        if M*nb!=n:\n",
    "            raise ValueError('n must be a multiple of 4')\n",
    "        effnoise = np.sqrt(3*M/(Ns/nb))    # Penman algorithm for Ns/nb >> M\n",
    "        for i in range(nb):\n",
    "            gamma=delg*np.random.randn(1)+gbar\n",
    "            for j in range(M):\n",
    "                gam[i*M+j]=gamma\n",
    "                thet[i*M+j]=2*np.pi*(j+1)/M+2*np.random.rand(1)*effnoise\n",
    "        \n",
    "    return thet,gam"
   ]
  },
  {
   "cell_type": "markdown",
   "metadata": {},
   "source": [
    "2.1 Set a limitation of the maximum number of macro-particles\n",
    "\n",
    "    And initialization of energy and position of every macro-particle"
   ]
  },
  {
   "cell_type": "code",
   "execution_count": null,
   "metadata": {},
   "outputs": [],
   "source": [
    "    nmax = 10000;\n",
    "    if n>nmax:\n",
    "        raise ValueError('increase nmax, subr load')\n",
    "        \n",
    "    gam=np.zeros(n)\n",
    "    thet=np.zeros(n)"
   ]
  },
  {
   "cell_type": "markdown",
   "metadata": {},
   "source": [
    "2.2 Seeded mode"
   ]
  },
  {
   "cell_type": "code",
   "execution_count": null,
   "metadata": {},
   "outputs": [],
   "source": [
    "    if iopt==4:\n",
    "        M=128                                               # number of particles in each beamlet\n",
    "        nb= int(np.round(n/M))                              # number of beamlet via Fawley between 64 to 256 (x16=1024 to 4096)\n",
    "        if M*nb!=n:\n",
    "            raise ValueError('n must be a multiple of 4')"
   ]
  },
  {
   "cell_type": "markdown",
   "metadata": {},
   "source": [
    "For every beamlet, use a random gaussian function scaled by the energy spread to sample each beamlet energy\n",
    "\n",
    "For every macro-particle, the energy in each beamlet is set to be the same, the positions are set to be uniformly distributed along the bucket"
   ]
  },
  {
   "cell_type": "code",
   "execution_count": null,
   "metadata": {},
   "outputs": [],
   "source": [
    "        for i in range(nb):\n",
    "            gamma=delg*np.random.randn(1)+gbar\n",
    "            for j in range(M):\n",
    "                gam[i*M+j]=gamma\n",
    "                thet[i*M+j]=2*np.pi*j/M"
   ]
  },
  {
   "cell_type": "markdown",
   "metadata": {},
   "source": [
    "2.3 SASE mode"
   ]
  },
  {
   "cell_type": "code",
   "execution_count": null,
   "metadata": {},
   "outputs": [],
   "source": [
    "    elif iopt==5:\n",
    "        M=4  # number of particles in each beamlet\n",
    "        nb= int(np.round(n/M) )    #number of beamlet via Fawley between 64 to 256 (x16=1024 to 4096)\n",
    "        if M*nb!=n:\n",
    "            raise ValueError('n must be a multiple of 4')"
   ]
  },
  {
   "cell_type": "markdown",
   "metadata": {},
   "source": [
    "calculate an effnoise term that is propotional to the square root of the number of $\\lambda_s$ in each bucket\n",
    "\n",
    "For every beamlet, use a random gaussian function scaled by the energy spread to sample each beamlet energy\n",
    "\n",
    "For every macro-particle, the energy in each beamlet is set to be the same, the positions are set to be uniformly distributed along the bucket with an random offset that is propotional to the effnoise"
   ]
  },
  {
   "cell_type": "code",
   "execution_count": null,
   "metadata": {},
   "outputs": [],
   "source": [
    "        effnoise = np.sqrt(3*M/(Ns/nb))    # Penman algorithm for Ns/nb >> M\n",
    "        for i in range(nb):\n",
    "            gamma=delg*np.random.randn(1)+gbar\n",
    "            for j in range(M):\n",
    "                gam[i*M+j]=gamma\n",
    "                thet[i*M+j]=2*np.pi*(j+1)/M+2*np.random.rand(1)*effnoise"
   ]
  }
 ],
 "metadata": {
  "kernelspec": {
   "display_name": "Python 3 (ipykernel)",
   "language": "python",
   "name": "python3"
  },
  "language_info": {
   "codemirror_mode": {
    "name": "ipython",
    "version": 3
   },
   "file_extension": ".py",
   "mimetype": "text/x-python",
   "name": "python",
   "nbconvert_exporter": "python",
   "pygments_lexer": "ipython3",
   "version": "3.9.15"
  }
 },
 "nbformat": 4,
 "nbformat_minor": 4
}
